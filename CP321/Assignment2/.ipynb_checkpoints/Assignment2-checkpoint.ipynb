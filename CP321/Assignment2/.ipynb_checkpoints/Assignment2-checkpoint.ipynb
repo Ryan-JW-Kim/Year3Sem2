{
 "cells": [
  {
   "cell_type": "markdown",
   "id": "c214e5be",
   "metadata": {},
   "source": [
    "# Assignment 2 (5 Marks)\n",
    "\n",
    "Please indicate your name and student id clearly in the submission title and in the file. \n",
    "\n",
    "Name: \n",
    "\n",
    "Student ID:  "
   ]
  },
  {
   "cell_type": "markdown",
   "id": "853c82ff",
   "metadata": {},
   "source": [
    "## Question 1\n",
    "\n",
    "Please use the same data set as in Assignment 1 for the following plot. \n",
    "\n",
    "Visualize the time series: Regular Unleaded Gasoline price in \"London\" from 2000 to 2022. Smooth the time series using simple moving average with windowsize=5."
   ]
  },
  {
   "cell_type": "code",
   "execution_count": null,
   "id": "eff59f67",
   "metadata": {},
   "outputs": [],
   "source": [
    "import pandas as pd\n",
    "\n",
    "df = pd.read_csv('data/fueltypesall1991-2023.csv')"
   ]
  },
  {
   "cell_type": "markdown",
   "id": "27fb6867",
   "metadata": {},
   "source": [
    "## Question 2\n",
    "\n",
    "The following data set includes the volcanos in the world. \n",
    "https://github.com/plotly/datasets/blob/master/volcano_db.csv\n",
    "\n",
    "Please plot a map with three countries: Canada, US and Mexico. Show the exact locations (latitude and longitude) of the volcanos on this map.\n"
   ]
  },
  {
   "cell_type": "code",
   "execution_count": null,
   "id": "c7647852",
   "metadata": {},
   "outputs": [],
   "source": [
    "import pandas as pd\n",
    "import geopandas\n",
    "\n",
    "volcano = pd.read_csv('data/volcano_db.csv', encoding = \"ISO-8859-1\")\n",
    "world = geopandas.read_file(geopandas.datasets.get_path('naturalearth_lowres'))"
   ]
  },
  {
   "cell_type": "code",
   "execution_count": null,
   "id": "fab68831",
   "metadata": {},
   "outputs": [],
   "source": []
  },
  {
   "cell_type": "code",
   "execution_count": null,
   "id": "d2ec1ce9",
   "metadata": {},
   "outputs": [],
   "source": []
  }
 ],
 "metadata": {
  "kernelspec": {
   "display_name": "Python 3 (ipykernel)",
   "language": "python",
   "name": "python3"
  },
  "language_info": {
   "codemirror_mode": {
    "name": "ipython",
    "version": 3
   },
   "file_extension": ".py",
   "mimetype": "text/x-python",
   "name": "python",
   "nbconvert_exporter": "python",
   "pygments_lexer": "ipython3",
   "version": "3.10.9"
  }
 },
 "nbformat": 4,
 "nbformat_minor": 5
}
